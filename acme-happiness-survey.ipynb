{
 "cells": [
  {
   "cell_type": "code",
   "execution_count": 33,
   "id": "still-gallery",
   "metadata": {},
   "outputs": [],
   "source": [
    "import pandas as pd\n",
    "import numpy as np\n",
    "import random\n",
    "from sklearn.model_selection import train_test_split\n",
    "from sklearn.linear_model import LogisticRegression\n",
    "from sklearn.metrics import plot_confusion_matrix, classification_report, f1_score\n",
    "import matplotlib.pyplot as plt\n",
    "from sklearn.feature_selection import SelectKBest, chi2\n",
    "from sklearn.inspection import permutation_importance\n",
    "from sklearn import svm, metrics\n",
    "from sklearn.neighbors import KNeighborsClassifier,NearestCentroid\n",
    "from sklearn.naive_bayes import GaussianNB,BernoulliNB\n",
    "from sklearn.tree import DecisionTreeClassifier\n",
    "from lazypredict.Supervised import LazyClassifier\n",
    "from sklearn.ensemble import BaggingClassifier\n",
    "from sklearn.linear_model import SGDClassifier,PassiveAggressiveClassifier,Perceptron\n",
    "import lightgbm as lgb\n"
   ]
  },
  {
   "cell_type": "markdown",
   "id": "brazilian-jimmy",
   "metadata": {},
   "source": [
    "## Loading Dataset"
   ]
  },
  {
   "cell_type": "code",
   "execution_count": 34,
   "id": "following-present",
   "metadata": {},
   "outputs": [],
   "source": [
    "data_url = (\"/Users/vidyakumar/Desktop/python/apziva/ACME-HappinessSurvey2020.csv\")"
   ]
  },
  {
   "cell_type": "code",
   "execution_count": 35,
   "id": "close-refund",
   "metadata": {},
   "outputs": [
    {
     "data": {
      "text/html": [
       "<div>\n",
       "<style scoped>\n",
       "    .dataframe tbody tr th:only-of-type {\n",
       "        vertical-align: middle;\n",
       "    }\n",
       "\n",
       "    .dataframe tbody tr th {\n",
       "        vertical-align: top;\n",
       "    }\n",
       "\n",
       "    .dataframe thead th {\n",
       "        text-align: right;\n",
       "    }\n",
       "</style>\n",
       "<table border=\"1\" class=\"dataframe\">\n",
       "  <thead>\n",
       "    <tr style=\"text-align: right;\">\n",
       "      <th></th>\n",
       "      <th>Y</th>\n",
       "      <th>X1</th>\n",
       "      <th>X2</th>\n",
       "      <th>X3</th>\n",
       "      <th>X4</th>\n",
       "      <th>X5</th>\n",
       "      <th>X6</th>\n",
       "    </tr>\n",
       "  </thead>\n",
       "  <tbody>\n",
       "    <tr>\n",
       "      <th>0</th>\n",
       "      <td>0</td>\n",
       "      <td>3</td>\n",
       "      <td>3</td>\n",
       "      <td>3</td>\n",
       "      <td>4</td>\n",
       "      <td>2</td>\n",
       "      <td>4</td>\n",
       "    </tr>\n",
       "    <tr>\n",
       "      <th>1</th>\n",
       "      <td>0</td>\n",
       "      <td>3</td>\n",
       "      <td>2</td>\n",
       "      <td>3</td>\n",
       "      <td>5</td>\n",
       "      <td>4</td>\n",
       "      <td>3</td>\n",
       "    </tr>\n",
       "    <tr>\n",
       "      <th>2</th>\n",
       "      <td>1</td>\n",
       "      <td>5</td>\n",
       "      <td>3</td>\n",
       "      <td>3</td>\n",
       "      <td>3</td>\n",
       "      <td>3</td>\n",
       "      <td>5</td>\n",
       "    </tr>\n",
       "    <tr>\n",
       "      <th>3</th>\n",
       "      <td>0</td>\n",
       "      <td>5</td>\n",
       "      <td>4</td>\n",
       "      <td>3</td>\n",
       "      <td>3</td>\n",
       "      <td>3</td>\n",
       "      <td>5</td>\n",
       "    </tr>\n",
       "    <tr>\n",
       "      <th>4</th>\n",
       "      <td>0</td>\n",
       "      <td>5</td>\n",
       "      <td>4</td>\n",
       "      <td>3</td>\n",
       "      <td>3</td>\n",
       "      <td>3</td>\n",
       "      <td>5</td>\n",
       "    </tr>\n",
       "  </tbody>\n",
       "</table>\n",
       "</div>"
      ],
      "text/plain": [
       "   Y  X1  X2  X3  X4  X5  X6\n",
       "0  0   3   3   3   4   2   4\n",
       "1  0   3   2   3   5   4   3\n",
       "2  1   5   3   3   3   3   5\n",
       "3  0   5   4   3   3   3   5\n",
       "4  0   5   4   3   3   3   5"
      ]
     },
     "execution_count": 35,
     "metadata": {},
     "output_type": "execute_result"
    }
   ],
   "source": [
    "def load_data():\n",
    "    data = pd.read_csv(data_url)\n",
    "    return data\n",
    "\n",
    "data = load_data()\n",
    "\n",
    "data.head()"
   ]
  },
  {
   "cell_type": "code",
   "execution_count": 36,
   "id": "intensive-groove",
   "metadata": {},
   "outputs": [
    {
     "data": {
      "text/html": [
       "<div>\n",
       "<style scoped>\n",
       "    .dataframe tbody tr th:only-of-type {\n",
       "        vertical-align: middle;\n",
       "    }\n",
       "\n",
       "    .dataframe tbody tr th {\n",
       "        vertical-align: top;\n",
       "    }\n",
       "\n",
       "    .dataframe thead th {\n",
       "        text-align: right;\n",
       "    }\n",
       "</style>\n",
       "<table border=\"1\" class=\"dataframe\">\n",
       "  <thead>\n",
       "    <tr style=\"text-align: right;\">\n",
       "      <th></th>\n",
       "      <th>happiness_status</th>\n",
       "      <th>timely_delivery</th>\n",
       "      <th>expected_contents</th>\n",
       "      <th>complete_order</th>\n",
       "      <th>good_price</th>\n",
       "      <th>courier_satisfy</th>\n",
       "      <th>app_order_ease</th>\n",
       "    </tr>\n",
       "  </thead>\n",
       "  <tbody>\n",
       "    <tr>\n",
       "      <th>0</th>\n",
       "      <td>0</td>\n",
       "      <td>3</td>\n",
       "      <td>3</td>\n",
       "      <td>3</td>\n",
       "      <td>4</td>\n",
       "      <td>2</td>\n",
       "      <td>4</td>\n",
       "    </tr>\n",
       "    <tr>\n",
       "      <th>1</th>\n",
       "      <td>0</td>\n",
       "      <td>3</td>\n",
       "      <td>2</td>\n",
       "      <td>3</td>\n",
       "      <td>5</td>\n",
       "      <td>4</td>\n",
       "      <td>3</td>\n",
       "    </tr>\n",
       "    <tr>\n",
       "      <th>2</th>\n",
       "      <td>1</td>\n",
       "      <td>5</td>\n",
       "      <td>3</td>\n",
       "      <td>3</td>\n",
       "      <td>3</td>\n",
       "      <td>3</td>\n",
       "      <td>5</td>\n",
       "    </tr>\n",
       "    <tr>\n",
       "      <th>3</th>\n",
       "      <td>0</td>\n",
       "      <td>5</td>\n",
       "      <td>4</td>\n",
       "      <td>3</td>\n",
       "      <td>3</td>\n",
       "      <td>3</td>\n",
       "      <td>5</td>\n",
       "    </tr>\n",
       "    <tr>\n",
       "      <th>4</th>\n",
       "      <td>0</td>\n",
       "      <td>5</td>\n",
       "      <td>4</td>\n",
       "      <td>3</td>\n",
       "      <td>3</td>\n",
       "      <td>3</td>\n",
       "      <td>5</td>\n",
       "    </tr>\n",
       "  </tbody>\n",
       "</table>\n",
       "</div>"
      ],
      "text/plain": [
       "   happiness_status  timely_delivery  expected_contents  complete_order  \\\n",
       "0                 0                3                  3               3   \n",
       "1                 0                3                  2               3   \n",
       "2                 1                5                  3               3   \n",
       "3                 0                5                  4               3   \n",
       "4                 0                5                  4               3   \n",
       "\n",
       "   good_price  courier_satisfy  app_order_ease  \n",
       "0           4                2               4  \n",
       "1           5                4               3  \n",
       "2           3                3               5  \n",
       "3           3                3               5  \n",
       "4           3                3               5  "
      ]
     },
     "execution_count": 36,
     "metadata": {},
     "output_type": "execute_result"
    }
   ],
   "source": [
    "#renaming\n",
    "data.columns = ['happiness_status', 'timely_delivery', 'expected_contents', 'complete_order', 'good_price', 'courier_satisfy', 'app_order_ease']\n",
    "data.head()"
   ]
  },
  {
   "cell_type": "markdown",
   "id": "latter-cream",
   "metadata": {},
   "source": [
    "## Exploratory Data Analysis"
   ]
  },
  {
   "cell_type": "code",
   "execution_count": 37,
   "id": "rocky-functionality",
   "metadata": {},
   "outputs": [
    {
     "data": {
      "text/plain": [
       "happiness_status     0\n",
       "timely_delivery      0\n",
       "expected_contents    0\n",
       "complete_order       0\n",
       "good_price           0\n",
       "courier_satisfy      0\n",
       "app_order_ease       0\n",
       "dtype: int64"
      ]
     },
     "execution_count": 37,
     "metadata": {},
     "output_type": "execute_result"
    }
   ],
   "source": [
    "#checking for null values - has no null values\n",
    "data.isnull().sum()"
   ]
  },
  {
   "cell_type": "code",
   "execution_count": 38,
   "id": "informal-holly",
   "metadata": {},
   "outputs": [
    {
     "name": "stdout",
     "output_type": "stream",
     "text": [
      "(126, 7)\n"
     ]
    }
   ],
   "source": [
    "#dim of dataset\n",
    "print(data.shape)"
   ]
  },
  {
   "cell_type": "code",
   "execution_count": 39,
   "id": "guilty-recipe",
   "metadata": {},
   "outputs": [
    {
     "name": "stdout",
     "output_type": "stream",
     "text": [
      "       happiness_status  timely_delivery  expected_contents  complete_order  \\\n",
      "count            126.00           126.00             126.00          126.00   \n",
      "mean               0.55             4.33               2.53            3.31   \n",
      "std                0.50             0.80               1.11            1.02   \n",
      "min                0.00             1.00               1.00            1.00   \n",
      "25%                0.00             4.00               2.00            3.00   \n",
      "50%                1.00             5.00               3.00            3.00   \n",
      "75%                1.00             5.00               3.00            4.00   \n",
      "max                1.00             5.00               5.00            5.00   \n",
      "\n",
      "       good_price  courier_satisfy  app_order_ease  \n",
      "count      126.00           126.00          126.00  \n",
      "mean         3.75             3.65            4.25  \n",
      "std          0.88             1.15            0.81  \n",
      "min          1.00             1.00            1.00  \n",
      "25%          3.00             3.00            4.00  \n",
      "50%          4.00             4.00            4.00  \n",
      "75%          4.00             4.00            5.00  \n",
      "max          5.00             5.00            5.00  \n"
     ]
    }
   ],
   "source": [
    "#data description\n",
    "print(data.describe())"
   ]
  },
  {
   "cell_type": "code",
   "execution_count": 40,
   "id": "fluid-importance",
   "metadata": {},
   "outputs": [
    {
     "data": {
      "text/plain": [
       "1    69\n",
       "0    57\n",
       "Name: happiness_status, dtype: int64"
      ]
     },
     "execution_count": 40,
     "metadata": {},
     "output_type": "execute_result"
    }
   ],
   "source": [
    "#balanced dataset \n",
    "data['happiness_status'].value_counts()\n"
   ]
  },
  {
   "cell_type": "markdown",
   "id": "double-shoot",
   "metadata": {},
   "source": [
    "## Split - Training and Testing data"
   ]
  },
  {
   "cell_type": "code",
   "execution_count": 41,
   "id": "characteristic-matthew",
   "metadata": {},
   "outputs": [
    {
     "name": "stdout",
     "output_type": "stream",
     "text": [
      "   timely_delivery  expected_contents  complete_order  good_price  \\\n",
      "0                3                  3               3           4   \n",
      "1                3                  2               3           5   \n",
      "2                5                  3               3           3   \n",
      "3                5                  4               3           3   \n",
      "4                5                  4               3           3   \n",
      "\n",
      "   courier_satisfy  app_order_ease  \n",
      "0                2               4  \n",
      "1                4               3  \n",
      "2                3               5  \n",
      "3                3               5  \n",
      "4                3               5  \n",
      "0    0\n",
      "1    0\n",
      "2    1\n",
      "3    0\n",
      "4    0\n",
      "Name: happiness_status, dtype: int64\n"
     ]
    }
   ],
   "source": [
    "#creating training and testing dataset\n",
    "X = data.drop(columns = 'happiness_status')\n",
    "y = data['happiness_status']\n",
    "print(X.head())\n",
    "print(y.head())"
   ]
  },
  {
   "cell_type": "code",
   "execution_count": 43,
   "id": "assured-bones",
   "metadata": {},
   "outputs": [
    {
     "name": "stdout",
     "output_type": "stream",
     "text": [
      "8     0\n",
      "50    1\n",
      "43    0\n",
      "24    1\n",
      "63    0\n",
      "Name: happiness_status, dtype: int64\n",
      "(100, 6)\n",
      "(26, 6)\n"
     ]
    }
   ],
   "source": [
    "X_train, X_test, y_train, y_test = train_test_split(X,y, test_size = 0.2, random_state = 0)\n",
    "print(y_test.head())\n",
    "print(X_train.shape)\n",
    "print(X_test.shape)"
   ]
  },
  {
   "cell_type": "markdown",
   "id": "manufactured-investigator",
   "metadata": {},
   "source": [
    "## Modeling"
   ]
  },
  {
   "cell_type": "markdown",
   "id": "meaningful-speaking",
   "metadata": {},
   "source": [
    "### 1.Logistic Regression - 62% Accuracy"
   ]
  },
  {
   "cell_type": "code",
   "execution_count": 45,
   "id": "centered-creature",
   "metadata": {},
   "outputs": [],
   "source": [
    "#logistic regression\n",
    "logisticRegr = LogisticRegression()\n",
    "lr = logisticRegr.fit(X_train, y_train)\n",
    "y_pred=logisticRegr.predict(X_test)"
   ]
  },
  {
   "cell_type": "code",
   "execution_count": 46,
   "id": "worst-inquiry",
   "metadata": {},
   "outputs": [
    {
     "data": {
      "image/png": "[encoded data removed]",
      "text/plain": [
       "<Figure size 432x288 with 2 Axes>"
      ]
     },
     "metadata": {
      "needs_background": "light"
     },
     "output_type": "display_data"
    }
   ],
   "source": [
    "plot_confusion_matrix(logisticRegr, X_test, y_test)\n",
    "plt.show()"
   ]
  },
  {
   "cell_type": "code",
   "execution_count": 47,
   "id": "female-consciousness",
   "metadata": {},
   "outputs": [
    {
     "name": "stdout",
     "output_type": "stream",
     "text": [
      "              precision    recall  f1-score   support\n",
      "\n",
      "           0       0.71      0.38      0.50        13\n",
      "           1       0.58      0.85      0.69        13\n",
      "\n",
      "    accuracy                           0.62        26\n",
      "   macro avg       0.65      0.62      0.59        26\n",
      "weighted avg       0.65      0.62      0.59        26\n",
      "\n"
     ]
    }
   ],
   "source": [
    "#accuracy of 62%-Logistic regression\n",
    "print(classification_report(y_test, y_pred))"
   ]
  },
  {
   "cell_type": "markdown",
   "id": "stupid-apollo",
   "metadata": {},
   "source": [
    "### 2.SVM Classifier - 69% Accuracy"
   ]
  },
  {
   "cell_type": "code",
   "execution_count": 48,
   "id": "executive-pantyhose",
   "metadata": {},
   "outputs": [],
   "source": [
    "#create a svm Classifier\n",
    "clf = svm.SVC(kernel='linear') # Linear Kernel\n",
    "\n",
    "#training the model\n",
    "svmc = clf.fit(X_train, y_train)\n",
    "\n",
    "#model prediction\n",
    "y_pred_clf = clf.predict(X_test)"
   ]
  },
  {
   "cell_type": "code",
   "execution_count": 49,
   "id": "sustained-memory",
   "metadata": {},
   "outputs": [
    {
     "name": "stdout",
     "output_type": "stream",
     "text": [
      "              precision    recall  f1-score   support\n",
      "\n",
      "           0       0.86      0.46      0.60        13\n",
      "           1       0.63      0.92      0.75        13\n",
      "\n",
      "    accuracy                           0.69        26\n",
      "   macro avg       0.74      0.69      0.67        26\n",
      "weighted avg       0.74      0.69      0.67        26\n",
      "\n"
     ]
    }
   ],
   "source": [
    "#accuracy of 69%-SVM\n",
    "print(classification_report(y_test, y_pred_clf))"
   ]
  },
  {
   "cell_type": "markdown",
   "id": "split-toner",
   "metadata": {},
   "source": [
    "### 3.KNN Classifier - 73% Accuracy"
   ]
  },
  {
   "cell_type": "code",
   "execution_count": 50,
   "id": "electric-pacific",
   "metadata": {},
   "outputs": [],
   "source": [
    "#knn classifier\n",
    "k_range = range(1,50)                                \n",
    "scores = {}                                          \n",
    "score_list = []                                     \n",
    "for k in k_range:                                    \n",
    "    knn = KNeighborsClassifier(n_neighbors = k)     \n",
    "    knn.fit(X_train, y_train)                        \n",
    "    y_pred_knn = knn.predict(X_test)                 \n",
    "    scores[k] = f1_score(y_test, y_pred_knn)         \n",
    "    score_list.append(f1_score(y_test, y_pred_knn))  \n"
   ]
  },
  {
   "cell_type": "code",
   "execution_count": 52,
   "id": "traditional-strategy",
   "metadata": {},
   "outputs": [
    {
     "data": {
      "image/png": "[encoded data removed]",
      "text/plain": [
       "<Figure size 432x288 with 1 Axes>"
      ]
     },
     "metadata": {
      "needs_background": "light"
     },
     "output_type": "display_data"
    }
   ],
   "source": [
    "#identifying k value for best accuracy\n",
    "%matplotlib inline\n",
    "import matplotlib.pyplot as plt\n",
    "plt.plot(k_range, score_list)                   \n",
    "plt.xlabel('k value')\n",
    "plt.ylabel('Accuracy')\n",
    "plt.title('KNN - Accuracy vs k value')\n",
    "plt.show()"
   ]
  },
  {
   "cell_type": "code",
   "execution_count": 53,
   "id": "caroline-academy",
   "metadata": {},
   "outputs": [
    {
     "name": "stdout",
     "output_type": "stream",
     "text": [
      "0.7407407407407408\n",
      "10\n"
     ]
    }
   ],
   "source": [
    "#Max score of 74% occurs at k=10\n",
    "print(max(score_list))\n",
    "print(max(scores, key=scores.get))"
   ]
  },
  {
   "cell_type": "code",
   "execution_count": 54,
   "id": "israeli-lesbian",
   "metadata": {},
   "outputs": [],
   "source": [
    "#building the final knn model with k=10\n",
    "knnc = KNeighborsClassifier(n_neighbors = 10)     \n",
    "knf = knnc.fit(X_train, y_train)                        \n",
    "y_pred_knn = knnc.predict(X_test)                 \n"
   ]
  },
  {
   "cell_type": "code",
   "execution_count": 55,
   "id": "described-design",
   "metadata": {},
   "outputs": [
    {
     "name": "stdout",
     "output_type": "stream",
     "text": [
      "              precision    recall  f1-score   support\n",
      "\n",
      "           0       0.75      0.69      0.72        13\n",
      "           1       0.71      0.77      0.74        13\n",
      "\n",
      "    accuracy                           0.73        26\n",
      "   macro avg       0.73      0.73      0.73        26\n",
      "weighted avg       0.73      0.73      0.73        26\n",
      "\n"
     ]
    }
   ],
   "source": [
    "#knn accuracy 73%\n",
    "print(classification_report(y_test, y_pred_knn))"
   ]
  },
  {
   "cell_type": "markdown",
   "id": "adapted-victorian",
   "metadata": {},
   "source": [
    "### 4.Naives Bayes Classifier - 62% Accuracy"
   ]
  },
  {
   "cell_type": "code",
   "execution_count": 59,
   "id": "available-orange",
   "metadata": {},
   "outputs": [],
   "source": [
    "#Gaussian Classifier\n",
    "gnb = GaussianNB()\n",
    "nbc = gnb.fit(X_train, y_train)\n",
    "y_pred_gnb = gnb.predict(X_test)"
   ]
  },
  {
   "cell_type": "code",
   "execution_count": 60,
   "id": "identical-pastor",
   "metadata": {},
   "outputs": [
    {
     "name": "stdout",
     "output_type": "stream",
     "text": [
      "              precision    recall  f1-score   support\n",
      "\n",
      "           0       0.67      0.46      0.55        13\n",
      "           1       0.59      0.77      0.67        13\n",
      "\n",
      "    accuracy                           0.62        26\n",
      "   macro avg       0.63      0.62      0.61        26\n",
      "weighted avg       0.63      0.62      0.61        26\n",
      "\n"
     ]
    }
   ],
   "source": [
    "#naives bayes - 62% sccuracy\n",
    "print(classification_report(y_test, y_pred_gnb))"
   ]
  },
  {
   "cell_type": "markdown",
   "id": "fleet-acceptance",
   "metadata": {},
   "source": [
    "### 5.Decision Tree Classifier - 50% Accuracy"
   ]
  },
  {
   "cell_type": "code",
   "execution_count": 61,
   "id": "heard-niagara",
   "metadata": {},
   "outputs": [],
   "source": [
    "# DecisionTreeClassifier\n",
    "dtc = DecisionTreeClassifier(random_state = 0)      \n",
    "dtc.fit(X_train, y_train)                          \n",
    "y_pred_dtc = dtc.predict(X_test)                    \n"
   ]
  },
  {
   "cell_type": "code",
   "execution_count": 62,
   "id": "common-secretary",
   "metadata": {},
   "outputs": [
    {
     "name": "stdout",
     "output_type": "stream",
     "text": [
      "              precision    recall  f1-score   support\n",
      "\n",
      "           0       0.50      0.54      0.52        13\n",
      "           1       0.50      0.46      0.48        13\n",
      "\n",
      "    accuracy                           0.50        26\n",
      "   macro avg       0.50      0.50      0.50        26\n",
      "weighted avg       0.50      0.50      0.50        26\n",
      "\n"
     ]
    }
   ],
   "source": [
    "#decision tree classifier accuracy - 50%\n",
    "print(classification_report(y_test, y_pred_dtc))"
   ]
  },
  {
   "cell_type": "markdown",
   "id": "sorted-aquatic",
   "metadata": {},
   "source": [
    "### 6.SGD Classifier - 54% Accuracy"
   ]
  },
  {
   "cell_type": "code",
   "execution_count": 64,
   "id": "binary-korea",
   "metadata": {},
   "outputs": [],
   "source": [
    "# SGDClassifier\n",
    "sgd = SGDClassifier(shuffle=True, random_state=101)\n",
    "sgd.fit(X_train, y_train)\n",
    "y_pred_sgd=sgd.predict(X_test)"
   ]
  },
  {
   "cell_type": "code",
   "execution_count": 65,
   "id": "happy-amber",
   "metadata": {},
   "outputs": [
    {
     "name": "stdout",
     "output_type": "stream",
     "text": [
      "              precision    recall  f1-score   support\n",
      "\n",
      "           0       0.52      0.92      0.67        13\n",
      "           1       0.67      0.15      0.25        13\n",
      "\n",
      "    accuracy                           0.54        26\n",
      "   macro avg       0.59      0.54      0.46        26\n",
      "weighted avg       0.59      0.54      0.46        26\n",
      "\n"
     ]
    }
   ],
   "source": [
    "#sgd - 54% sccuracy\n",
    "print(classification_report(y_test, y_pred_sgd))"
   ]
  },
  {
   "cell_type": "markdown",
   "id": "heavy-comfort",
   "metadata": {},
   "source": [
    "##### Range of accuracy - 50% to 73%"
   ]
  },
  {
   "cell_type": "markdown",
   "id": "posted-south",
   "metadata": {},
   "source": [
    "## Feature Importance "
   ]
  },
  {
   "cell_type": "markdown",
   "id": "intensive-emphasis",
   "metadata": {},
   "source": [
    "### 1. Selectkbest "
   ]
  },
  {
   "cell_type": "code",
   "execution_count": 66,
   "id": "passive-debut",
   "metadata": {},
   "outputs": [
    {
     "data": {
      "text/plain": [
       "array([1.44904066, 0.03616135, 0.90010372, 0.106194  , 2.27328624,\n",
       "       0.54107039])"
      ]
     },
     "execution_count": 66,
     "metadata": {},
     "output_type": "execute_result"
    }
   ],
   "source": [
    "#applying selectkbest method\n",
    "test = SelectKBest(score_func=chi2, k=4)\n",
    "fit = test.fit(X, y)\n",
    "fit.scores_"
   ]
  },
  {
   "cell_type": "code",
   "execution_count": 67,
   "id": "center-mounting",
   "metadata": {},
   "outputs": [
    {
     "name": "stdout",
     "output_type": "stream",
     "text": [
      "[[3 3 2 4]\n",
      " [3 3 4 3]\n",
      " [5 3 3 5]\n",
      " [5 3 3 5]\n",
      " [5 3 3 5]]\n",
      "   timely_delivery  expected_contents  complete_order  good_price  \\\n",
      "0                3                  3               3           4   \n",
      "1                3                  2               3           5   \n",
      "2                5                  3               3           3   \n",
      "3                5                  4               3           3   \n",
      "4                5                  4               3           3   \n",
      "\n",
      "   courier_satisfy  app_order_ease  \n",
      "0                2               4  \n",
      "1                4               3  \n",
      "2                3               5  \n",
      "3                3               5  \n",
      "4                3               5  \n"
     ]
    }
   ],
   "source": [
    "#top4features\n",
    "X_new=SelectKBest(score_func=chi2,k=4).fit_transform(X,y)\n",
    "print(X_new[:5])\n",
    "print(X.head())"
   ]
  },
  {
   "cell_type": "markdown",
   "id": "accompanied-certification",
   "metadata": {},
   "source": [
    "##### Top features - timelydelivery, completeorder, couriersatisfy, apporderease"
   ]
  },
  {
   "cell_type": "markdown",
   "id": "sought-richards",
   "metadata": {},
   "source": [
    "### 2. Permutation Importance"
   ]
  },
  {
   "cell_type": "code",
   "execution_count": 69,
   "id": "polish-frank",
   "metadata": {},
   "outputs": [
    {
     "data": {
      "text/html": [
       "\n",
       "    <style>\n",
       "    table.eli5-weights tr:hover {\n",
       "        filter: brightness(85%);\n",
       "    }\n",
       "</style>\n",
       "\n",
       "\n",
       "\n",
       "    \n",
       "\n",
       "    \n",
       "\n",
       "    \n",
       "\n",
       "    \n",
       "\n",
       "    \n",
       "\n",
       "    \n",
       "\n",
       "\n",
       "    \n",
       "\n",
       "    \n",
       "\n",
       "    \n",
       "\n",
       "    \n",
       "\n",
       "    \n",
       "\n",
       "    \n",
       "\n",
       "\n",
       "    \n",
       "\n",
       "    \n",
       "\n",
       "    \n",
       "\n",
       "    \n",
       "\n",
       "    \n",
       "        <table class=\"eli5-weights eli5-feature-importances\" style=\"border-collapse: collapse; border: none; margin-top: 0em; table-layout: auto;\">\n",
       "    <thead>\n",
       "    <tr style=\"border: none;\">\n",
       "        <th style=\"padding: 0 1em 0 0.5em; text-align: right; border: none;\">Weight</th>\n",
       "        <th style=\"padding: 0 0.5em 0 0.5em; text-align: left; border: none;\">Feature</th>\n",
       "    </tr>\n",
       "    </thead>\n",
       "    <tbody>\n",
       "    \n",
       "        <tr style=\"background-color: hsl(120, 100.00%, 86.75%); border: none;\">\n",
       "            <td style=\"padding: 0 1em 0 0.5em; text-align: right; border: none;\">\n",
       "                0.0385\n",
       "                \n",
       "                    &plusmn; 0.0973\n",
       "                \n",
       "            </td>\n",
       "            <td style=\"padding: 0 0.5em 0 0.5em; text-align: left; border: none;\">\n",
       "                timely_delivery\n",
       "            </td>\n",
       "        </tr>\n",
       "    \n",
       "        <tr style=\"background-color: hsl(120, 100.00%, 90.73%); border: none;\">\n",
       "            <td style=\"padding: 0 1em 0 0.5em; text-align: right; border: none;\">\n",
       "                0.0231\n",
       "                \n",
       "                    &plusmn; 0.0377\n",
       "                \n",
       "            </td>\n",
       "            <td style=\"padding: 0 0.5em 0 0.5em; text-align: left; border: none;\">\n",
       "                good_price\n",
       "            </td>\n",
       "        </tr>\n",
       "    \n",
       "        <tr style=\"background-color: hsl(120, 100.00%, 95.70%); border: none;\">\n",
       "            <td style=\"padding: 0 1em 0 0.5em; text-align: right; border: none;\">\n",
       "                0.0077\n",
       "                \n",
       "                    &plusmn; 0.0576\n",
       "                \n",
       "            </td>\n",
       "            <td style=\"padding: 0 0.5em 0 0.5em; text-align: left; border: none;\">\n",
       "                courier_satisfy\n",
       "            </td>\n",
       "        </tr>\n",
       "    \n",
       "        <tr style=\"background-color: hsl(0, 100.00%, 100.00%); border: none;\">\n",
       "            <td style=\"padding: 0 1em 0 0.5em; text-align: right; border: none;\">\n",
       "                0\n",
       "                \n",
       "                    &plusmn; 0.0000\n",
       "                \n",
       "            </td>\n",
       "            <td style=\"padding: 0 0.5em 0 0.5em; text-align: left; border: none;\">\n",
       "                app_order_ease\n",
       "            </td>\n",
       "        </tr>\n",
       "    \n",
       "        <tr style=\"background-color: hsl(0, 100.00%, 93.02%); border: none;\">\n",
       "            <td style=\"padding: 0 1em 0 0.5em; text-align: right; border: none;\">\n",
       "                -0.0154\n",
       "                \n",
       "                    &plusmn; 0.0784\n",
       "                \n",
       "            </td>\n",
       "            <td style=\"padding: 0 0.5em 0 0.5em; text-align: left; border: none;\">\n",
       "                expected_contents\n",
       "            </td>\n",
       "        </tr>\n",
       "    \n",
       "        <tr style=\"background-color: hsl(0, 100.00%, 80.00%); border: none;\">\n",
       "            <td style=\"padding: 0 1em 0 0.5em; text-align: right; border: none;\">\n",
       "                -0.0692\n",
       "                \n",
       "                    &plusmn; 0.0754\n",
       "                \n",
       "            </td>\n",
       "            <td style=\"padding: 0 0.5em 0 0.5em; text-align: left; border: none;\">\n",
       "                complete_order\n",
       "            </td>\n",
       "        </tr>\n",
       "    \n",
       "    \n",
       "    </tbody>\n",
       "</table>\n",
       "    \n",
       "\n",
       "    \n",
       "\n",
       "\n",
       "    \n",
       "\n",
       "    \n",
       "\n",
       "    \n",
       "\n",
       "    \n",
       "\n",
       "    \n",
       "\n",
       "    \n",
       "\n",
       "\n",
       "\n"
      ],
      "text/plain": [
       "<IPython.core.display.HTML object>"
      ]
     },
     "execution_count": 69,
     "metadata": {},
     "output_type": "execute_result"
    }
   ],
   "source": [
    "import eli5\n",
    "from eli5.sklearn import PermutationImportance\n",
    "\n",
    "perm_lr = PermutationImportance(lr, random_state=1).fit(X_test, y_test)\n",
    "eli5.show_weights(perm_lr, feature_names = X_test.columns.tolist())"
   ]
  },
  {
   "cell_type": "code",
   "execution_count": 70,
   "id": "union-yorkshire",
   "metadata": {},
   "outputs": [
    {
     "data": {
      "text/html": [
       "\n",
       "    <style>\n",
       "    table.eli5-weights tr:hover {\n",
       "        filter: brightness(85%);\n",
       "    }\n",
       "</style>\n",
       "\n",
       "\n",
       "\n",
       "    \n",
       "\n",
       "    \n",
       "\n",
       "    \n",
       "\n",
       "    \n",
       "\n",
       "    \n",
       "\n",
       "    \n",
       "\n",
       "\n",
       "    \n",
       "\n",
       "    \n",
       "\n",
       "    \n",
       "\n",
       "    \n",
       "\n",
       "    \n",
       "\n",
       "    \n",
       "\n",
       "\n",
       "    \n",
       "\n",
       "    \n",
       "\n",
       "    \n",
       "\n",
       "    \n",
       "\n",
       "    \n",
       "        <table class=\"eli5-weights eli5-feature-importances\" style=\"border-collapse: collapse; border: none; margin-top: 0em; table-layout: auto;\">\n",
       "    <thead>\n",
       "    <tr style=\"border: none;\">\n",
       "        <th style=\"padding: 0 1em 0 0.5em; text-align: right; border: none;\">Weight</th>\n",
       "        <th style=\"padding: 0 0.5em 0 0.5em; text-align: left; border: none;\">Feature</th>\n",
       "    </tr>\n",
       "    </thead>\n",
       "    <tbody>\n",
       "    \n",
       "        <tr style=\"background-color: hsl(120, 100.00%, 80.00%); border: none;\">\n",
       "            <td style=\"padding: 0 1em 0 0.5em; text-align: right; border: none;\">\n",
       "                0.1692\n",
       "                \n",
       "                    &plusmn; 0.2261\n",
       "                \n",
       "            </td>\n",
       "            <td style=\"padding: 0 0.5em 0 0.5em; text-align: left; border: none;\">\n",
       "                expected_contents\n",
       "            </td>\n",
       "        </tr>\n",
       "    \n",
       "        <tr style=\"background-color: hsl(120, 100.00%, 80.00%); border: none;\">\n",
       "            <td style=\"padding: 0 1em 0 0.5em; text-align: right; border: none;\">\n",
       "                0.1692\n",
       "                \n",
       "                    &plusmn; 0.1794\n",
       "                \n",
       "            </td>\n",
       "            <td style=\"padding: 0 0.5em 0 0.5em; text-align: left; border: none;\">\n",
       "                timely_delivery\n",
       "            </td>\n",
       "        </tr>\n",
       "    \n",
       "        <tr style=\"background-color: hsl(120, 100.00%, 82.62%); border: none;\">\n",
       "            <td style=\"padding: 0 1em 0 0.5em; text-align: right; border: none;\">\n",
       "                0.1385\n",
       "                \n",
       "                    &plusmn; 0.1043\n",
       "                \n",
       "            </td>\n",
       "            <td style=\"padding: 0 0.5em 0 0.5em; text-align: left; border: none;\">\n",
       "                good_price\n",
       "            </td>\n",
       "        </tr>\n",
       "    \n",
       "        <tr style=\"background-color: hsl(120, 100.00%, 86.92%); border: none;\">\n",
       "            <td style=\"padding: 0 1em 0 0.5em; text-align: right; border: none;\">\n",
       "                0.0923\n",
       "                \n",
       "                    &plusmn; 0.1250\n",
       "                \n",
       "            </td>\n",
       "            <td style=\"padding: 0 0.5em 0 0.5em; text-align: left; border: none;\">\n",
       "                app_order_ease\n",
       "            </td>\n",
       "        </tr>\n",
       "    \n",
       "        <tr style=\"background-color: hsl(120, 100.00%, 89.30%); border: none;\">\n",
       "            <td style=\"padding: 0 1em 0 0.5em; text-align: right; border: none;\">\n",
       "                0.0692\n",
       "                \n",
       "                    &plusmn; 0.1131\n",
       "                \n",
       "            </td>\n",
       "            <td style=\"padding: 0 0.5em 0 0.5em; text-align: left; border: none;\">\n",
       "                courier_satisfy\n",
       "            </td>\n",
       "        </tr>\n",
       "    \n",
       "        <tr style=\"background-color: hsl(120, 100.00%, 91.95%); border: none;\">\n",
       "            <td style=\"padding: 0 1em 0 0.5em; text-align: right; border: none;\">\n",
       "                0.0462\n",
       "                \n",
       "                    &plusmn; 0.1569\n",
       "                \n",
       "            </td>\n",
       "            <td style=\"padding: 0 0.5em 0 0.5em; text-align: left; border: none;\">\n",
       "                complete_order\n",
       "            </td>\n",
       "        </tr>\n",
       "    \n",
       "    \n",
       "    </tbody>\n",
       "</table>\n",
       "    \n",
       "\n",
       "    \n",
       "\n",
       "\n",
       "    \n",
       "\n",
       "    \n",
       "\n",
       "    \n",
       "\n",
       "    \n",
       "\n",
       "    \n",
       "\n",
       "    \n",
       "\n",
       "\n",
       "\n"
      ],
      "text/plain": [
       "<IPython.core.display.HTML object>"
      ]
     },
     "execution_count": 70,
     "metadata": {},
     "output_type": "execute_result"
    }
   ],
   "source": [
    "perm_knn = PermutationImportance(knf, random_state=1).fit(X_test, y_test)\n",
    "eli5.show_weights(perm_knn, feature_names = X_test.columns.tolist())"
   ]
  },
  {
   "cell_type": "code",
   "execution_count": 72,
   "id": "exclusive-status",
   "metadata": {},
   "outputs": [
    {
     "data": {
      "text/html": [
       "\n",
       "    <style>\n",
       "    table.eli5-weights tr:hover {\n",
       "        filter: brightness(85%);\n",
       "    }\n",
       "</style>\n",
       "\n",
       "\n",
       "\n",
       "    \n",
       "\n",
       "    \n",
       "\n",
       "    \n",
       "\n",
       "    \n",
       "\n",
       "    \n",
       "\n",
       "    \n",
       "\n",
       "\n",
       "    \n",
       "\n",
       "    \n",
       "\n",
       "    \n",
       "\n",
       "    \n",
       "\n",
       "    \n",
       "\n",
       "    \n",
       "\n",
       "\n",
       "    \n",
       "\n",
       "    \n",
       "\n",
       "    \n",
       "\n",
       "    \n",
       "\n",
       "    \n",
       "        <table class=\"eli5-weights eli5-feature-importances\" style=\"border-collapse: collapse; border: none; margin-top: 0em; table-layout: auto;\">\n",
       "    <thead>\n",
       "    <tr style=\"border: none;\">\n",
       "        <th style=\"padding: 0 1em 0 0.5em; text-align: right; border: none;\">Weight</th>\n",
       "        <th style=\"padding: 0 0.5em 0 0.5em; text-align: left; border: none;\">Feature</th>\n",
       "    </tr>\n",
       "    </thead>\n",
       "    <tbody>\n",
       "    \n",
       "        <tr style=\"background-color: hsl(120, 100.00%, 80.00%); border: none;\">\n",
       "            <td style=\"padding: 0 1em 0 0.5em; text-align: right; border: none;\">\n",
       "                0.0769\n",
       "                \n",
       "                    &plusmn; 0.1754\n",
       "                \n",
       "            </td>\n",
       "            <td style=\"padding: 0 0.5em 0 0.5em; text-align: left; border: none;\">\n",
       "                timely_delivery\n",
       "            </td>\n",
       "        </tr>\n",
       "    \n",
       "        <tr style=\"background-color: hsl(120, 100.00%, 96.01%); border: none;\">\n",
       "            <td style=\"padding: 0 1em 0 0.5em; text-align: right; border: none;\">\n",
       "                0.0077\n",
       "                \n",
       "                    &plusmn; 0.0308\n",
       "                \n",
       "            </td>\n",
       "            <td style=\"padding: 0 0.5em 0 0.5em; text-align: left; border: none;\">\n",
       "                good_price\n",
       "            </td>\n",
       "        </tr>\n",
       "    \n",
       "        <tr style=\"background-color: hsl(0, 100.00%, 96.01%); border: none;\">\n",
       "            <td style=\"padding: 0 1em 0 0.5em; text-align: right; border: none;\">\n",
       "                -0.0077\n",
       "                \n",
       "                    &plusmn; 0.0576\n",
       "                \n",
       "            </td>\n",
       "            <td style=\"padding: 0 0.5em 0 0.5em; text-align: left; border: none;\">\n",
       "                courier_satisfy\n",
       "            </td>\n",
       "        </tr>\n",
       "    \n",
       "        <tr style=\"background-color: hsl(0, 100.00%, 96.01%); border: none;\">\n",
       "            <td style=\"padding: 0 1em 0 0.5em; text-align: right; border: none;\">\n",
       "                -0.0077\n",
       "                \n",
       "                    &plusmn; 0.0576\n",
       "                \n",
       "            </td>\n",
       "            <td style=\"padding: 0 0.5em 0 0.5em; text-align: left; border: none;\">\n",
       "                complete_order\n",
       "            </td>\n",
       "        </tr>\n",
       "    \n",
       "        <tr style=\"background-color: hsl(0, 100.00%, 93.52%); border: none;\">\n",
       "            <td style=\"padding: 0 1em 0 0.5em; text-align: right; border: none;\">\n",
       "                -0.0154\n",
       "                \n",
       "                    &plusmn; 0.0377\n",
       "                \n",
       "            </td>\n",
       "            <td style=\"padding: 0 0.5em 0 0.5em; text-align: left; border: none;\">\n",
       "                expected_contents\n",
       "            </td>\n",
       "        </tr>\n",
       "    \n",
       "        <tr style=\"background-color: hsl(0, 100.00%, 89.47%); border: none;\">\n",
       "            <td style=\"padding: 0 1em 0 0.5em; text-align: right; border: none;\">\n",
       "                -0.0308\n",
       "                \n",
       "                    &plusmn; 0.0754\n",
       "                \n",
       "            </td>\n",
       "            <td style=\"padding: 0 0.5em 0 0.5em; text-align: left; border: none;\">\n",
       "                app_order_ease\n",
       "            </td>\n",
       "        </tr>\n",
       "    \n",
       "    \n",
       "    </tbody>\n",
       "</table>\n",
       "    \n",
       "\n",
       "    \n",
       "\n",
       "\n",
       "    \n",
       "\n",
       "    \n",
       "\n",
       "    \n",
       "\n",
       "    \n",
       "\n",
       "    \n",
       "\n",
       "    \n",
       "\n",
       "\n",
       "\n"
      ],
      "text/plain": [
       "<IPython.core.display.HTML object>"
      ]
     },
     "execution_count": 72,
     "metadata": {},
     "output_type": "execute_result"
    }
   ],
   "source": [
    "perm_svm = PermutationImportance(svmc, random_state=1).fit(X_test, y_test)\n",
    "eli5.show_weights(perm_svm, feature_names = X_test.columns.tolist())"
   ]
  },
  {
   "cell_type": "markdown",
   "id": "gross-damage",
   "metadata": {},
   "source": [
    "##### timelydelivery and goodprice is present top4 for all the above tables, considering the fact that KNN gave us the best result, we will choose timely_delivery, expected_contents, app_order_ease and good_price \n"
   ]
  },
  {
   "cell_type": "markdown",
   "id": "centered-samuel",
   "metadata": {},
   "source": [
    "#### Modeling with Permutation Importance Top 4 Features"
   ]
  },
  {
   "cell_type": "code",
   "execution_count": 73,
   "id": "great-consumer",
   "metadata": {},
   "outputs": [],
   "source": [
    "X_new = X[['timely_delivery', 'good_price', 'expected_contents', 'app_order_ease']]\n"
   ]
  },
  {
   "cell_type": "code",
   "execution_count": 74,
   "id": "twenty-sodium",
   "metadata": {},
   "outputs": [
    {
     "name": "stdout",
     "output_type": "stream",
     "text": [
      "    timely_delivery  good_price  expected_contents  app_order_ease\n",
      "8                 4           4                  1               4\n",
      "50                5           3                  1               4\n",
      "43                4           4                  3               4\n",
      "24                4           3                  3               4\n",
      "63                5           2                  5               5\n"
     ]
    }
   ],
   "source": [
    "X_train_new, X_test_new, y_train_new, y_test_new = train_test_split(X_new,y, test_size = 0.2, random_state = 0)\n",
    "print(X_test_new.head())\n"
   ]
  },
  {
   "cell_type": "code",
   "execution_count": 75,
   "id": "subtle-suspension",
   "metadata": {},
   "outputs": [],
   "source": [
    "#building knn with top 4 features\n",
    "k_range = range(1,100)                                       \n",
    "scores_new = {}                                             \n",
    "score_list_new = []                                         \n",
    "for k in k_range:                                           \n",
    "    knn = KNeighborsClassifier(n_neighbors = k)              \n",
    "    knn.fit(X_train_new, y_train_new)                       \n",
    "    y_pred_knn = knn.predict(X_test_new)                    \n",
    "    scores_new[k] = f1_score(y_test_new, y_pred_knn)         \n",
    "    score_list_new.append(f1_score(y_test_new, y_pred_knn))  \n",
    "    "
   ]
  },
  {
   "cell_type": "code",
   "execution_count": 76,
   "id": "minute-boating",
   "metadata": {},
   "outputs": [
    {
     "data": {
      "image/png": "[encoded data removed]",
      "text/plain": [
       "<Figure size 432x288 with 1 Axes>"
      ]
     },
     "metadata": {
      "needs_background": "light"
     },
     "output_type": "display_data"
    }
   ],
   "source": [
    "#identifying value of k for best accuracy\n",
    "%matplotlib inline\n",
    "import matplotlib.pyplot as plt\n",
    "plt.plot(k_range, score_list_new)                   \n",
    "plt.xlabel('k value')\n",
    "plt.ylabel('Accuracy')\n",
    "plt.title('KNN - Accuracy vs k value')\n",
    "plt.show()"
   ]
  },
  {
   "cell_type": "code",
   "execution_count": 77,
   "id": "perfect-estimate",
   "metadata": {},
   "outputs": [
    {
     "name": "stdout",
     "output_type": "stream",
     "text": [
      "0.7272727272727274\n",
      "33\n"
     ]
    }
   ],
   "source": [
    "#Max score of 72% occurs at k=33\n",
    "print(max(score_list_new))\n",
    "print(max(scores_new, key=scores_new.get))"
   ]
  },
  {
   "cell_type": "code",
   "execution_count": 78,
   "id": "tested-sector",
   "metadata": {},
   "outputs": [],
   "source": [
    "#KNN Model with k=33\n",
    "knn_f_new = KNeighborsClassifier(n_neighbors = 33)            \n",
    "knn_f_new.fit(X_train_new, y_train_new)                        \n",
    "y_pred_knn_f_new = knn_f_new.predict(X_test_new)              "
   ]
  },
  {
   "cell_type": "code",
   "execution_count": 79,
   "id": "ordered-landing",
   "metadata": {},
   "outputs": [
    {
     "name": "stdout",
     "output_type": "stream",
     "text": [
      "              precision    recall  f1-score   support\n",
      "\n",
      "           0       0.83      0.38      0.53        13\n",
      "           1       0.60      0.92      0.73        13\n",
      "\n",
      "    accuracy                           0.65        26\n",
      "   macro avg       0.72      0.65      0.63        26\n",
      "weighted avg       0.72      0.65      0.63        26\n",
      "\n"
     ]
    }
   ],
   "source": [
    "print(classification_report(y_test_new, y_pred_knn_f_new))\n"
   ]
  },
  {
   "cell_type": "markdown",
   "id": "hawaiian-audit",
   "metadata": {},
   "source": [
    "##### Excluding the 2 least important features led to a 8% decrease in F1 score(KNN Model). Hence, it would be best to retain all 6 variables."
   ]
  },
  {
   "cell_type": "markdown",
   "id": "curious-davis",
   "metadata": {},
   "source": [
    "### 3. SHAP Feature Importance"
   ]
  },
  {
   "cell_type": "code",
   "execution_count": 80,
   "id": "announced-counter",
   "metadata": {},
   "outputs": [],
   "source": [
    "#shap feature importance\n",
    "import xgboost\n",
    "import shap\n",
    "model = xgboost.XGBRegressor().fit(X_train, y_train)\n",
    "explainer = shap.TreeExplainer(model)                           # Explain the model using shap\n",
    "shap_values = explainer.shap_values(X_train)                    # Get shap values for training data\n"
   ]
  },
  {
   "cell_type": "code",
   "execution_count": 82,
   "id": "russian-spoke",
   "metadata": {},
   "outputs": [
    {
     "data": {
      "image/png": "[encoded data removed]",
      "text/plain": [
       "<Figure size 576x280.8 with 2 Axes>"
      ]
     },
     "metadata": {
      "needs_background": "light"
     },
     "output_type": "display_data"
    }
   ],
   "source": [
    "#Summary of feature importance for each row \n",
    "shap.summary_plot(shap_values, features = X_train, feature_names = X_train.columns) \n"
   ]
  },
  {
   "cell_type": "code",
   "execution_count": 83,
   "id": "ancient-thanksgiving",
   "metadata": {},
   "outputs": [
    {
     "data": {
      "image/png": "[encoded data removed]",
      "text/plain": [
       "<Figure size 576x280.8 with 1 Axes>"
      ]
     },
     "metadata": {
      "needs_background": "light"
     },
     "output_type": "display_data"
    }
   ],
   "source": [
    "#Summary of feature importance using bar plot\n",
    "shap.summary_plot(shap_values, features = X_train, feature_names = X_train.columns, plot_type = 'bar')\n"
   ]
  },
  {
   "cell_type": "markdown",
   "id": "destroyed-theme",
   "metadata": {},
   "source": [
    "#### Modeling with SHAP Top 4 Features"
   ]
  },
  {
   "cell_type": "code",
   "execution_count": 84,
   "id": "enormous-reservoir",
   "metadata": {},
   "outputs": [],
   "source": [
    "#top4 features from shap\n",
    "X_shap = X[['timely_delivery','app_order_ease', 'complete_order', 'good_price']]\n"
   ]
  },
  {
   "cell_type": "code",
   "execution_count": 85,
   "id": "needed-garden",
   "metadata": {},
   "outputs": [
    {
     "name": "stdout",
     "output_type": "stream",
     "text": [
      "    timely_delivery  app_order_ease  complete_order  good_price\n",
      "8                 4               4               4           4\n",
      "50                5               4               3           3\n",
      "43                4               4               3           4\n",
      "24                4               4               3           3\n",
      "63                5               5               5           2\n"
     ]
    }
   ],
   "source": [
    "X_train_shap, X_test_shap, y_train_shap, y_test_shap = train_test_split(X_shap,y, test_size = 0.2, random_state = 0)\n",
    "print(X_test_shap.head())\n"
   ]
  },
  {
   "cell_type": "code",
   "execution_count": 86,
   "id": "friendly-village",
   "metadata": {},
   "outputs": [],
   "source": [
    "#knn with top 4 features from shap\n",
    "k_range = range(1,100)                                       \n",
    "scores_shap = {}                                              \n",
    "score_list_shap = []                                          \n",
    "for k in k_range:                                            \n",
    "    knn = KNeighborsClassifier(n_neighbors = k)              \n",
    "    knn.fit(X_train_shap, y_train_shap)                        \n",
    "    y_pred_knn = knn.predict(X_test_shap)                     \n",
    "    scores_shap[k] = f1_score(y_test_shap, y_pred_knn)         \n",
    "    score_list_shap.append(f1_score(y_test_shap, y_pred_knn)) \n",
    "    "
   ]
  },
  {
   "cell_type": "code",
   "execution_count": 87,
   "id": "handed-miller",
   "metadata": {},
   "outputs": [
    {
     "data": {
      "image/png": "[encoded data removed]",
      "text/plain": [
       "<Figure size 432x288 with 1 Axes>"
      ]
     },
     "metadata": {
      "needs_background": "light"
     },
     "output_type": "display_data"
    }
   ],
   "source": [
    "#identifying value of k for best accuracy\n",
    "%matplotlib inline\n",
    "import matplotlib.pyplot as plt\n",
    "plt.plot(k_range, score_list_shap)                   \n",
    "plt.xlabel('k value')\n",
    "plt.ylabel('Accuracy')\n",
    "plt.title('KNN - Accuracy vs k value')\n",
    "plt.show()"
   ]
  },
  {
   "cell_type": "code",
   "execution_count": 88,
   "id": "surgical-boring",
   "metadata": {},
   "outputs": [
    {
     "name": "stdout",
     "output_type": "stream",
     "text": [
      "0.7096774193548387\n",
      "42\n"
     ]
    }
   ],
   "source": [
    "print(max(score_list_shap))\n",
    "print(max(scores_shap, key=scores_shap.get))\n"
   ]
  },
  {
   "cell_type": "markdown",
   "id": "manual-holmes",
   "metadata": {},
   "source": [
    "##### Excluding the 2 least important variables leads to a decrease in F1 score by 3%. Hence, it would be best to retain all 6 variables."
   ]
  },
  {
   "cell_type": "markdown",
   "id": "russian-economy",
   "metadata": {},
   "source": [
    "## Bagging Technique (Ensemble)"
   ]
  },
  {
   "cell_type": "code",
   "execution_count": 89,
   "id": "sharp-cherry",
   "metadata": {},
   "outputs": [],
   "source": [
    "#applying bagging technique to knn\n",
    "h=BaggingClassifier(KNeighborsClassifier(n_neighbors=10),max_samples=0.7,max_features=0.7,n_estimators=1000)"
   ]
  },
  {
   "cell_type": "code",
   "execution_count": 90,
   "id": "mineral-black",
   "metadata": {},
   "outputs": [
    {
     "name": "stdout",
     "output_type": "stream",
     "text": [
      "              precision    recall  f1-score   support\n",
      "\n",
      "           0       0.57      0.31      0.40        13\n",
      "           1       0.53      0.77      0.62        13\n",
      "\n",
      "    accuracy                           0.54        26\n",
      "   macro avg       0.55      0.54      0.51        26\n",
      "weighted avg       0.55      0.54      0.51        26\n",
      "\n"
     ]
    }
   ],
   "source": [
    "#applying bagging to our knn model reduced accuracy to 54%\n",
    "h.fit(X_train,y_train)\n",
    "y_pred_bag=h.predict(X_test)\n",
    "print(classification_report(y_test,y_pred_bag))"
   ]
  },
  {
   "cell_type": "markdown",
   "id": "metropolitan-function",
   "metadata": {},
   "source": [
    "## Lazy Predict"
   ]
  },
  {
   "cell_type": "markdown",
   "id": "operating-mattress",
   "metadata": {},
   "source": [
    "### All Features"
   ]
  },
  {
   "cell_type": "code",
   "execution_count": 91,
   "id": "portuguese-swiss",
   "metadata": {},
   "outputs": [
    {
     "name": "stderr",
     "output_type": "stream",
     "text": [
      "100%|██████████| 29/29 [00:01<00:00, 28.90it/s]"
     ]
    },
    {
     "name": "stdout",
     "output_type": "stream",
     "text": [
      "                               Accuracy  Balanced Accuracy  ROC AUC  F1 Score  \\\n",
      "Model                                                                           \n",
      "Perceptron                         0.73               0.73     0.73      0.71   \n",
      "PassiveAggressiveClassifier        0.69               0.69     0.69      0.69   \n",
      "NearestCentroid                    0.69               0.69     0.69      0.69   \n",
      "LGBMClassifier                     0.65               0.65     0.65      0.65   \n",
      "BernoulliNB                        0.62               0.62     0.62      0.61   \n",
      "SGDClassifier                      0.62               0.62     0.62      0.62   \n",
      "GaussianNB                         0.62               0.62     0.62      0.61   \n",
      "LogisticRegression                 0.62               0.62     0.62      0.59   \n",
      "LinearDiscriminantAnalysis         0.58               0.58     0.58      0.54   \n",
      "XGBClassifier                      0.58               0.58     0.58      0.57   \n",
      "RidgeClassifierCV                  0.58               0.58     0.58      0.54   \n",
      "RidgeClassifier                    0.58               0.58     0.58      0.54   \n",
      "LinearSVC                          0.58               0.58     0.58      0.54   \n",
      "LabelSpreading                     0.58               0.58     0.58      0.58   \n",
      "LabelPropagation                   0.58               0.58     0.58      0.58   \n",
      "ExtraTreeClassifier                0.58               0.58     0.58      0.58   \n",
      "BaggingClassifier                  0.54               0.54     0.54      0.54   \n",
      "QuadraticDiscriminantAnalysis      0.54               0.54     0.54      0.53   \n",
      "CalibratedClassifierCV             0.54               0.54     0.54      0.41   \n",
      "ExtraTreesClassifier               0.50               0.50     0.50      0.49   \n",
      "RandomForestClassifier             0.50               0.50     0.50      0.49   \n",
      "DummyClassifier                    0.50               0.50     0.50      0.49   \n",
      "SVC                                0.50               0.50     0.50      0.49   \n",
      "DecisionTreeClassifier             0.46               0.46     0.46      0.46   \n",
      "NuSVC                              0.42               0.42     0.42      0.42   \n",
      "KNeighborsClassifier               0.42               0.42     0.42      0.42   \n",
      "AdaBoostClassifier                 0.42               0.42     0.42      0.42   \n",
      "\n",
      "                               Time Taken  \n",
      "Model                                      \n",
      "Perceptron                           0.01  \n",
      "PassiveAggressiveClassifier          0.01  \n",
      "NearestCentroid                      0.01  \n",
      "LGBMClassifier                       0.04  \n",
      "BernoulliNB                          0.02  \n",
      "SGDClassifier                        0.01  \n",
      "GaussianNB                           0.02  \n",
      "LogisticRegression                   0.02  \n",
      "LinearDiscriminantAnalysis           0.02  \n",
      "XGBClassifier                        0.03  \n",
      "RidgeClassifierCV                    0.02  \n",
      "RidgeClassifier                      0.03  \n",
      "LinearSVC                            0.02  \n",
      "LabelSpreading                       0.02  \n",
      "LabelPropagation                     0.02  \n",
      "ExtraTreeClassifier                  0.02  \n",
      "BaggingClassifier                    0.05  \n",
      "QuadraticDiscriminantAnalysis        0.02  \n",
      "CalibratedClassifierCV               0.05  \n",
      "ExtraTreesClassifier                 0.11  \n",
      "RandomForestClassifier               0.16  \n",
      "DummyClassifier                      0.02  \n",
      "SVC                                  0.01  \n",
      "DecisionTreeClassifier               0.02  \n",
      "NuSVC                                0.01  \n",
      "KNeighborsClassifier                 0.02  \n",
      "AdaBoostClassifier                   0.19  \n"
     ]
    },
    {
     "name": "stderr",
     "output_type": "stream",
     "text": [
      "\n"
     ]
    }
   ],
   "source": [
    "#using lazypredict to identify other models which might improve accuracy - all features\n",
    "clf = LazyClassifier(verbose=0,ignore_warnings=True, custom_metric=None)\n",
    "models,predictions = clf.fit(X_train, X_test, y_train, y_test)\n",
    "print(models)\n"
   ]
  },
  {
   "cell_type": "markdown",
   "id": "identified-replacement",
   "metadata": {},
   "source": [
    "### Permutation Importance Features"
   ]
  },
  {
   "cell_type": "code",
   "execution_count": 92,
   "id": "committed-constant",
   "metadata": {},
   "outputs": [
    {
     "name": "stderr",
     "output_type": "stream",
     "text": [
      "100%|██████████| 29/29 [00:01<00:00, 28.66it/s]"
     ]
    },
    {
     "name": "stdout",
     "output_type": "stream",
     "text": [
      "                               Accuracy  Balanced Accuracy  ROC AUC  F1 Score  \\\n",
      "Model                                                                           \n",
      "NearestCentroid                    0.77               0.77     0.77      0.77   \n",
      "PassiveAggressiveClassifier        0.77               0.77     0.77      0.77   \n",
      "LGBMClassifier                     0.73               0.73     0.73      0.73   \n",
      "BernoulliNB                        0.73               0.73     0.73      0.73   \n",
      "Perceptron                         0.73               0.73     0.73      0.73   \n",
      "NuSVC                              0.69               0.69     0.69      0.68   \n",
      "SGDClassifier                      0.65               0.65     0.65      0.63   \n",
      "LabelSpreading                     0.65               0.65     0.65      0.65   \n",
      "CalibratedClassifierCV             0.62               0.62     0.62      0.55   \n",
      "SVC                                0.62               0.62     0.62      0.58   \n",
      "GaussianNB                         0.62               0.62     0.62      0.61   \n",
      "LabelPropagation                   0.62               0.62     0.62      0.61   \n",
      "BaggingClassifier                  0.62               0.62     0.62      0.61   \n",
      "RidgeClassifierCV                  0.58               0.58     0.58      0.52   \n",
      "RidgeClassifier                    0.58               0.58     0.58      0.52   \n",
      "LinearSVC                          0.58               0.58     0.58      0.52   \n",
      "LogisticRegression                 0.58               0.58     0.58      0.52   \n",
      "LinearDiscriminantAnalysis         0.58               0.58     0.58      0.52   \n",
      "RandomForestClassifier             0.58               0.58     0.58      0.57   \n",
      "ExtraTreesClassifier               0.58               0.58     0.58      0.58   \n",
      "ExtraTreeClassifier                0.58               0.58     0.58      0.58   \n",
      "DecisionTreeClassifier             0.58               0.58     0.58      0.58   \n",
      "QuadraticDiscriminantAnalysis      0.54               0.54     0.54      0.54   \n",
      "KNeighborsClassifier               0.50               0.50     0.50      0.49   \n",
      "DummyClassifier                    0.50               0.50     0.50      0.49   \n",
      "XGBClassifier                      0.50               0.50     0.50      0.49   \n",
      "AdaBoostClassifier                 0.50               0.50     0.50      0.46   \n",
      "\n",
      "                               Time Taken  \n",
      "Model                                      \n",
      "NearestCentroid                      0.02  \n",
      "PassiveAggressiveClassifier          0.02  \n",
      "LGBMClassifier                       0.02  \n",
      "BernoulliNB                          0.02  \n",
      "Perceptron                           0.02  \n",
      "NuSVC                                0.01  \n",
      "SGDClassifier                        0.03  \n",
      "LabelSpreading                       0.01  \n",
      "CalibratedClassifierCV               0.04  \n",
      "SVC                                  0.03  \n",
      "GaussianNB                           0.02  \n",
      "LabelPropagation                     0.02  \n",
      "BaggingClassifier                    0.05  \n",
      "RidgeClassifierCV                    0.03  \n",
      "RidgeClassifier                      0.03  \n",
      "LinearSVC                            0.01  \n",
      "LogisticRegression                   0.02  \n",
      "LinearDiscriminantAnalysis           0.02  \n",
      "RandomForestClassifier               0.18  \n",
      "ExtraTreesClassifier                 0.11  \n",
      "ExtraTreeClassifier                  0.02  \n",
      "DecisionTreeClassifier               0.02  \n",
      "QuadraticDiscriminantAnalysis        0.01  \n",
      "KNeighborsClassifier                 0.01  \n",
      "DummyClassifier                      0.02  \n",
      "XGBClassifier                        0.06  \n",
      "AdaBoostClassifier                   0.16  \n"
     ]
    },
    {
     "name": "stderr",
     "output_type": "stream",
     "text": [
      "\n"
     ]
    }
   ],
   "source": [
    "#using lazypredict to identify other models which might improve accuracy - perm features\n",
    "clf = LazyClassifier(verbose=0,ignore_warnings=True, custom_metric=None)\n",
    "models,predictions = clf.fit(X_train_new, X_test_new, y_train_new, y_test_new)\n",
    "print(models)"
   ]
  },
  {
   "cell_type": "markdown",
   "id": "upper-aside",
   "metadata": {},
   "source": [
    "### SHAP Features"
   ]
  },
  {
   "cell_type": "code",
   "execution_count": 93,
   "id": "mounted-presentation",
   "metadata": {},
   "outputs": [
    {
     "name": "stderr",
     "output_type": "stream",
     "text": [
      "100%|██████████| 29/29 [00:00<00:00, 35.89it/s]"
     ]
    },
    {
     "name": "stdout",
     "output_type": "stream",
     "text": [
      "                               Accuracy  Balanced Accuracy  ROC AUC  F1 Score  \\\n",
      "Model                                                                           \n",
      "SGDClassifier                      0.73               0.73     0.73      0.73   \n",
      "PassiveAggressiveClassifier        0.65               0.65     0.65      0.65   \n",
      "NearestCentroid                    0.65               0.65     0.65      0.65   \n",
      "LinearSVC                          0.62               0.62     0.62      0.59   \n",
      "LabelPropagation                   0.62               0.62     0.62      0.62   \n",
      "XGBClassifier                      0.62               0.62     0.62      0.61   \n",
      "RidgeClassifier                    0.62               0.62     0.62      0.59   \n",
      "LogisticRegression                 0.62               0.62     0.62      0.59   \n",
      "LinearDiscriminantAnalysis         0.62               0.62     0.62      0.59   \n",
      "LGBMClassifier                     0.62               0.62     0.62      0.62   \n",
      "GaussianNB                         0.62               0.62     0.62      0.61   \n",
      "BernoulliNB                        0.58               0.58     0.58      0.56   \n",
      "CalibratedClassifierCV             0.58               0.58     0.58      0.52   \n",
      "RidgeClassifierCV                  0.58               0.58     0.58      0.52   \n",
      "QuadraticDiscriminantAnalysis      0.58               0.58     0.58      0.57   \n",
      "Perceptron                         0.54               0.54     0.54      0.54   \n",
      "RandomForestClassifier             0.54               0.54     0.54      0.54   \n",
      "ExtraTreeClassifier                0.54               0.54     0.54      0.51   \n",
      "NuSVC                              0.54               0.54     0.54      0.54   \n",
      "DecisionTreeClassifier             0.54               0.54     0.54      0.53   \n",
      "AdaBoostClassifier                 0.54               0.54     0.54      0.54   \n",
      "ExtraTreesClassifier               0.54               0.54     0.54      0.53   \n",
      "LabelSpreading                     0.50               0.50     0.50      0.49   \n",
      "DummyClassifier                    0.50               0.50     0.50      0.49   \n",
      "SVC                                0.50               0.50     0.50      0.49   \n",
      "BaggingClassifier                  0.50               0.50     0.50      0.50   \n",
      "KNeighborsClassifier               0.46               0.46     0.46      0.45   \n",
      "\n",
      "                               Time Taken  \n",
      "Model                                      \n",
      "SGDClassifier                        0.01  \n",
      "PassiveAggressiveClassifier          0.02  \n",
      "NearestCentroid                      0.01  \n",
      "LinearSVC                            0.01  \n",
      "LabelPropagation                     0.01  \n",
      "XGBClassifier                        0.03  \n",
      "RidgeClassifier                      0.01  \n",
      "LogisticRegression                   0.01  \n",
      "LinearDiscriminantAnalysis           0.01  \n",
      "LGBMClassifier                       0.02  \n",
      "GaussianNB                           0.01  \n",
      "BernoulliNB                          0.02  \n",
      "CalibratedClassifierCV               0.03  \n",
      "RidgeClassifierCV                    0.02  \n",
      "QuadraticDiscriminantAnalysis        0.01  \n",
      "Perceptron                           0.01  \n",
      "RandomForestClassifier               0.14  \n",
      "ExtraTreeClassifier                  0.02  \n",
      "NuSVC                                0.01  \n",
      "DecisionTreeClassifier               0.01  \n",
      "AdaBoostClassifier                   0.15  \n",
      "ExtraTreesClassifier                 0.11  \n",
      "LabelSpreading                       0.01  \n",
      "DummyClassifier                      0.02  \n",
      "SVC                                  0.01  \n",
      "BaggingClassifier                    0.04  \n",
      "KNeighborsClassifier                 0.02  \n"
     ]
    },
    {
     "name": "stderr",
     "output_type": "stream",
     "text": [
      "\n"
     ]
    }
   ],
   "source": [
    "#using lazypredict to identify other models which might improve accuracy - shap features\n",
    "clf = LazyClassifier(verbose=0,ignore_warnings=True, custom_metric=None)\n",
    "models,predictions = clf.fit(X_train_shap, X_test_shap, y_train_shap, y_test_shap)\n",
    "print(models)"
   ]
  },
  {
   "cell_type": "markdown",
   "id": "bridal-provision",
   "metadata": {},
   "source": [
    "##### Let's proceed to build models based on the top models predicted by Lazy predict"
   ]
  },
  {
   "cell_type": "markdown",
   "id": "surface-interaction",
   "metadata": {},
   "source": [
    "## Lazy Predict Top Models"
   ]
  },
  {
   "cell_type": "markdown",
   "id": "bearing-catalog",
   "metadata": {},
   "source": [
    "### 1. SGD with SHAP Variables - 62% Accuracy"
   ]
  },
  {
   "cell_type": "code",
   "execution_count": 94,
   "id": "modern-affairs",
   "metadata": {},
   "outputs": [],
   "source": [
    "#sgd with 4 variables(shap) improved accuracy from 54% to 62%\n",
    "sgd = SGDClassifier(shuffle=True, random_state=101)\n",
    "sgd.fit(X_train_shap, y_train_shap)\n",
    "y_pred_sgd=sgd.predict(X_test_shap)"
   ]
  },
  {
   "cell_type": "code",
   "execution_count": 95,
   "id": "caroline-operation",
   "metadata": {},
   "outputs": [
    {
     "name": "stdout",
     "output_type": "stream",
     "text": [
      "              precision    recall  f1-score   support\n",
      "\n",
      "           0       1.00      0.23      0.38        13\n",
      "           1       0.57      1.00      0.72        13\n",
      "\n",
      "    accuracy                           0.62        26\n",
      "   macro avg       0.78      0.62      0.55        26\n",
      "weighted avg       0.78      0.62      0.55        26\n",
      "\n"
     ]
    }
   ],
   "source": [
    "print(classification_report(y_test_shap, y_pred_sgd))"
   ]
  },
  {
   "cell_type": "markdown",
   "id": "relevant-alloy",
   "metadata": {},
   "source": [
    "### 2. Nearest Centroid Classifier with PERM Variables - 77% Accuracy"
   ]
  },
  {
   "cell_type": "code",
   "execution_count": 96,
   "id": "mediterranean-commerce",
   "metadata": {},
   "outputs": [
    {
     "name": "stdout",
     "output_type": "stream",
     "text": [
      "              precision    recall  f1-score   support\n",
      "\n",
      "           0       0.77      0.77      0.77        13\n",
      "           1       0.77      0.77      0.77        13\n",
      "\n",
      "    accuracy                           0.77        26\n",
      "   macro avg       0.77      0.77      0.77        26\n",
      "weighted avg       0.77      0.77      0.77        26\n",
      "\n"
     ]
    }
   ],
   "source": [
    "# Creating the Nearest Centroid Classifier\n",
    "model_nc = NearestCentroid()\n",
    " \n",
    "# new highest accuracy of 77%\n",
    "model_nc.fit(X_train_new, y_train_new.values.ravel())\n",
    "print(classification_report(y_test_new, model_nc.predict(X_test_new)))"
   ]
  },
  {
   "cell_type": "markdown",
   "id": "apparent-eating",
   "metadata": {},
   "source": [
    "### 3. Perceptron with all variables - 50% Accuracy"
   ]
  },
  {
   "cell_type": "code",
   "execution_count": 98,
   "id": "parliamentary-trademark",
   "metadata": {},
   "outputs": [
    {
     "name": "stdout",
     "output_type": "stream",
     "text": [
      "              precision    recall  f1-score   support\n",
      "\n",
      "           0       0.00      0.00      0.00        13\n",
      "           1       0.50      1.00      0.67        13\n",
      "\n",
      "    accuracy                           0.50        26\n",
      "   macro avg       0.25      0.50      0.33        26\n",
      "weighted avg       0.25      0.50      0.33        26\n",
      "\n"
     ]
    }
   ],
   "source": [
    "#unexpectedly perceptron did not work as expected (73% accuracy was predicted)\n",
    "model_perc = Perceptron(tol=1e-3, random_state=0)\n",
    "model_perc.fit(X_train, y_train)\n",
    "perc_pred = model_perc.predict(X_test)\n",
    "print(classification_report(y_test, perc_pred))"
   ]
  },
  {
   "cell_type": "markdown",
   "id": "bizarre-activity",
   "metadata": {},
   "source": [
    "### 4. PAC with PERM variables - 50% Accuracy"
   ]
  },
  {
   "cell_type": "code",
   "execution_count": 99,
   "id": "quality-cornell",
   "metadata": {},
   "outputs": [
    {
     "name": "stdout",
     "output_type": "stream",
     "text": [
      "              precision    recall  f1-score   support\n",
      "\n",
      "           0       0.50      1.00      0.67        13\n",
      "           1       0.00      0.00      0.00        13\n",
      "\n",
      "    accuracy                           0.50        26\n",
      "   macro avg       0.25      0.50      0.33        26\n",
      "weighted avg       0.25      0.50      0.33        26\n",
      "\n"
     ]
    }
   ],
   "source": [
    "#unexpectedly PAC did not work as expected (77% accuracy was predicted)\n",
    "model_pac = PassiveAggressiveClassifier(C=0.5, random_state = 5)             \n",
    "model_pac.fit(X_train_new, y_train_new)                                      \n",
    "pac_pred = model_pac.predict(X_test_new)                                \n",
    "print(classification_report(y_test_new, pac_pred))                 "
   ]
  },
  {
   "cell_type": "markdown",
   "id": "ranking-showcase",
   "metadata": {},
   "source": [
    "### 5. LGBM with PERM variables - 73% Accuracy"
   ]
  },
  {
   "cell_type": "code",
   "execution_count": 101,
   "id": "valid-remark",
   "metadata": {},
   "outputs": [
    {
     "name": "stdout",
     "output_type": "stream",
     "text": [
      "              precision    recall  f1-score   support\n",
      "\n",
      "           0       0.75      0.69      0.72        13\n",
      "           1       0.71      0.77      0.74        13\n",
      "\n",
      "    accuracy                           0.73        26\n",
      "   macro avg       0.73      0.73      0.73        26\n",
      "weighted avg       0.73      0.73      0.73        26\n",
      "\n"
     ]
    }
   ],
   "source": [
    "#LGBM model ran as expected (73% accuracy was predicted)\n",
    "model_lgb = lgb.LGBMClassifier()\n",
    "model_lgb.fit(X_train_new, y_train_new)\n",
    "lgb_pred=model_lgb.predict(X_test_new)\n",
    "print(classification_report(y_test_new, lgb_pred))"
   ]
  },
  {
   "cell_type": "markdown",
   "id": "declared-preparation",
   "metadata": {},
   "source": [
    "### 6. Bernoulli Classifier with PERM variables - 50% Accuracy"
   ]
  },
  {
   "cell_type": "code",
   "execution_count": 103,
   "id": "involved-cleveland",
   "metadata": {},
   "outputs": [
    {
     "name": "stdout",
     "output_type": "stream",
     "text": [
      "              precision    recall  f1-score   support\n",
      "\n",
      "           0       0.00      0.00      0.00        13\n",
      "           1       0.50      1.00      0.67        13\n",
      "\n",
      "    accuracy                           0.50        26\n",
      "   macro avg       0.25      0.50      0.33        26\n",
      "weighted avg       0.25      0.50      0.33        26\n",
      "\n"
     ]
    }
   ],
   "source": [
    "#unexpectedly Bernoulli did not work as expected (73% accuracy was predicted)\n",
    "model_bnb = BernoulliNB()\n",
    "model_bnb.fit(X_train_new, y_train_new)\n",
    "bnb_pred = model_bnb.predict(X_test_new)\n",
    "print(classification_report(y_test_new, bnb_pred))"
   ]
  },
  {
   "cell_type": "markdown",
   "id": "white-offering",
   "metadata": {},
   "source": [
    "## Final Thoughts"
   ]
  },
  {
   "cell_type": "markdown",
   "id": "furnished-chemistry",
   "metadata": {},
   "source": [
    "##### Highest accuracy: 77%\n",
    "##### Best Performing Model: Nearest Centroid model \n",
    "##### Top 4 features: 'timely_delivery', 'good_price', 'expected_contents', 'app_order_ease'\n",
    "##### Feature Importance Method Used: Permutation Importance\n"
   ]
  },
  {
   "cell_type": "code",
   "execution_count": null,
   "id": "aquatic-melbourne",
   "metadata": {},
   "outputs": [],
   "source": []
  }
 ],
 "metadata": {
  "kernelspec": {
   "display_name": "Python 3",
   "language": "python",
   "name": "python3"
  },
  "language_info": {
   "codemirror_mode": {
    "name": "ipython",
    "version": 3
   },
   "file_extension": ".py",
   "mimetype": "text/x-python",
   "name": "python",
   "nbconvert_exporter": "python",
   "pygments_lexer": "ipython3",
   "version": "3.8.3"
  }
 },
 "nbformat": 4,
 "nbformat_minor": 5
}
